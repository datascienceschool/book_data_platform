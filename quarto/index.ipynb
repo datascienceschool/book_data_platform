{
 "cells": [
  {
   "cell_type": "markdown",
   "metadata": {},
   "source": [
    "# 데이터 사이언스 스쿨 - 데이터 플랫폼 편"
   ]
  },
  {
   "cell_type": "markdown",
   "metadata": {},
   "source": [
    "데이터를 저장하고 처리하기 위한 다양한 플랫폼 기술을 소개합니다."
   ]
  }
 ],
 "metadata": {
  "language_info": {
   "name": "python"
  }
 },
 "nbformat": 4,
 "nbformat_minor": 2
}
