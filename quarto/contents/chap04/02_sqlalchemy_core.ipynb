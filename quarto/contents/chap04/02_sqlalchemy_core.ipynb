{
 "cells": [
  {
   "cell_type": "markdown",
   "metadata": {},
   "source": [
    "# SqlAlchemy Core\n"
   ]
  },
  {
   "cell_type": "markdown",
   "metadata": {},
   "source": [
    "SqlAlchemy Core는 SqlAlchemy의 ORM의 핵심 철학인 객체 기반이 아니라 정통 SQL 방식의 기반처리를 담당하는 부분이며 \n",
    "SqlAlchemy ORM은 SqlAlchemy Core를 내부에서 사용한다.\n",
    "\n",
    "SqlAlchemy Core는 다음과 같은 특징을 가진다.\n",
    "\n",
    "- 테이블별로 별도의 클래스를 사용하지 않고 모든 테이블을 `Table`이라는 하나의 공통 클래스로 처리\n",
    "- SQL 표현언어(Expression Language)에 기반한 SQL 1대1 연동 문법\n"
   ]
  },
  {
   "cell_type": "markdown",
   "metadata": {},
   "source": [
    "## 테이블 정의"
   ]
  },
  {
   "cell_type": "markdown",
   "metadata": {},
   "source": [
    "SqlAlchemy Core에서 각각의 테이블은 `Table` 클래스 객체로 생성되며 이렇게 생성된 `Table` 클래스 객체는 `MetaData` 클래스 객체에서 통합 관리한다.\n",
    "\n",
    "`Table` 클래스 객체를 생성하기 위해서는 인수로 `MetaData` 클래스 객체가 필요하므로 우선 다음과 같이 `MetaData` 클래스 객체를 생성해야 한다."
   ]
  },
  {
   "cell_type": "code",
   "execution_count": 1,
   "metadata": {},
   "outputs": [
    {
     "data": {
      "text/plain": [
       "MetaData()"
      ]
     },
     "execution_count": 1,
     "metadata": {},
     "output_type": "execute_result"
    }
   ],
   "source": [
    "import sqlalchemy as sa\n",
    "\n",
    "metadata_obj = sa.MetaData()\n",
    "\n",
    "metadata_obj"
   ]
  },
  {
   "cell_type": "markdown",
   "metadata": {},
   "source": [
    "`Table` 객체 생성자는 실제 데이터베이스의 테이블 이름 문자열과 MetaData 객체, 그리고 각 열을 정의하는 `Column` 객체를 인수로 받는다.\n",
    "\n",
    "```python\n",
    "Table_객체 = Table(\n",
    "  \"실제_데이터베이스의_테이블_이름_문자열\",\n",
    "  MetaData_객체,\n",
    "  Column_객체,\n",
    "  Column_객체,\n",
    "  Column_객체,\n",
    "  ...\n",
    ")\n",
    "```"
   ]
  },
  {
   "cell_type": "markdown",
   "metadata": {},
   "source": [
    "`Column` 객체 생성자는 ORM에서 사용하는 열 이름 문자열과, 열 데이터 타입, 그리고 기타 설정사항등을 인수로 받는다.\n",
    "\n",
    "```python\n",
    "Column_객체 = Column(\n",
    "  \"ORM에서_사용하는_열_이름_문자열\",\n",
    "  열_데이터_타입,\n",
    "  ...(기타 설정사항)...\n",
    ")\n",
    "```\n",
    "\n",
    "많이 사용되는 기타 설정사항 인수으로는 `key`, `primary_key`, `nullable` 등이 있다.\n",
    "\n",
    "- `key`: 데이터베이스 테이블에 생성되는 열의 실제 이름. ORM에서 사용하는 열 이름 문자열과 실제 열 이름을 다르게 하고 싶은 경우에 지정하며 이를 생략하면 첫번째 인수인 \"ORM에서 사용하는 열 이름 문자열\"을 그대로 사용한다.\n",
    "- `primary_key`: 해당 열을 기본키로 지정하고 싶으면 `primary_key=True` 인수를 지정한다. 복합 기본키(compound primary key)를 사용하고 싶으면 각각의 열에 `primary_key` 인수를 지정하거나 `Table` 객체를 생성할 때 별도의 키 제한조건을 넣는다.\n",
    "- `nullable`: Null 값 입력을 가능하게 하고 싶으면 `nullable=True` 인수를 지정한다. 디폴트 값은 `True`\n",
    "\n",
    "또한 해당 열이 다른 테이블의 외래키인 경우 `ForeignKey(\"테이블_이름.열_이름\")`의 형식으로 `ForeignKey` 객체를 넣는다."
   ]
  },
  {
   "cell_type": "markdown",
   "metadata": {},
   "source": [
    "다음은 `user`, `user_prefs` 두 개의 테이블을 정의하는 SqlAlchemy Core 예제코드다. "
   ]
  },
  {
   "cell_type": "code",
   "execution_count": 2,
   "metadata": {},
   "outputs": [
    {
     "data": {
      "text/plain": [
       "Table('user', MetaData(), Column('user_id', Integer(), table=<user>, primary_key=True, nullable=False), Column('user_name', String(length=16), table=<user>, nullable=False), Column('email_address', String(length=60), table=<user>, key='email'), Column('nickname', String(length=50), table=<user>, nullable=False), schema=None)"
      ]
     },
     "execution_count": 2,
     "metadata": {},
     "output_type": "execute_result"
    }
   ],
   "source": [
    "user = sa.Table(\n",
    "    \"user\",\n",
    "    metadata_obj,\n",
    "    sa.Column(\"user_id\", sa.Integer, primary_key=True),\n",
    "    sa.Column(\"user_name\", sa.String(16), nullable=False),\n",
    "    sa.Column(\"email_address\", sa.String(60), key=\"email\"),\n",
    "    sa.Column(\"nickname\", sa.String(50), nullable=False),\n",
    ")\n",
    "\n",
    "user"
   ]
  },
  {
   "cell_type": "code",
   "execution_count": 3,
   "metadata": {},
   "outputs": [
    {
     "data": {
      "text/plain": [
       "Table('user_prefs', MetaData(), Column('pref_id', Integer(), table=<user_prefs>, primary_key=True, nullable=False), Column('user_id', Integer(), ForeignKey('user.user_id'), table=<user_prefs>, nullable=False), Column('pref_name', String(length=40), table=<user_prefs>, nullable=False), Column('pref_value', String(length=100), table=<user_prefs>), schema=None)"
      ]
     },
     "execution_count": 3,
     "metadata": {},
     "output_type": "execute_result"
    }
   ],
   "source": [
    "user_prefs = sa.Table(\n",
    "    \"user_prefs\",\n",
    "    metadata_obj,\n",
    "    sa.Column(\"pref_id\", sa.Integer, primary_key=True),\n",
    "    sa.Column(\"user_id\", sa.Integer, sa.ForeignKey(\"user.user_id\"), nullable=False),\n",
    "    sa.Column(\"pref_name\", sa.String(40), nullable=False),\n",
    "    sa.Column(\"pref_value\", sa.String(100)),\n",
    ")\n",
    "\n",
    "user_prefs"
   ]
  },
  {
   "cell_type": "markdown",
   "metadata": {},
   "source": [
    "생성된 테이블 객체 정보는 MetaData 객체의 `tables` 및 `sorted_tables` 속성에 각각 딕셔너리 타입 및 리스트 타입 값으로 포함된다."
   ]
  },
  {
   "cell_type": "code",
   "execution_count": 4,
   "metadata": {},
   "outputs": [
    {
     "data": {
      "text/plain": [
       "FacadeDict({'user': Table('user', MetaData(), Column('user_id', Integer(), table=<user>, primary_key=True, nullable=False), Column('user_name', String(length=16), table=<user>, nullable=False), Column('email_address', String(length=60), table=<user>, key='email'), Column('nickname', String(length=50), table=<user>, nullable=False), schema=None), 'user_prefs': Table('user_prefs', MetaData(), Column('pref_id', Integer(), table=<user_prefs>, primary_key=True, nullable=False), Column('user_id', Integer(), ForeignKey('user.user_id'), table=<user_prefs>, nullable=False), Column('pref_name', String(length=40), table=<user_prefs>, nullable=False), Column('pref_value', String(length=100), table=<user_prefs>), schema=None)})"
      ]
     },
     "execution_count": 4,
     "metadata": {},
     "output_type": "execute_result"
    }
   ],
   "source": [
    "metadata_obj.tables"
   ]
  },
  {
   "cell_type": "code",
   "execution_count": 5,
   "metadata": {},
   "outputs": [
    {
     "data": {
      "text/plain": [
       "[Table('user', MetaData(), Column('user_id', Integer(), table=<user>, primary_key=True, nullable=False), Column('user_name', String(length=16), table=<user>, nullable=False), Column('email_address', String(length=60), table=<user>, key='email'), Column('nickname', String(length=50), table=<user>, nullable=False), schema=None),\n",
       " Table('user_prefs', MetaData(), Column('pref_id', Integer(), table=<user_prefs>, primary_key=True, nullable=False), Column('user_id', Integer(), ForeignKey('user.user_id'), table=<user_prefs>, nullable=False), Column('pref_name', String(length=40), table=<user_prefs>, nullable=False), Column('pref_value', String(length=100), table=<user_prefs>), schema=None)]"
      ]
     },
     "execution_count": 5,
     "metadata": {},
     "output_type": "execute_result"
    }
   ],
   "source": [
    "metadata_obj.sorted_tables"
   ]
  },
  {
   "cell_type": "markdown",
   "metadata": {},
   "source": [
    "다음 코드로 `tables` 속성에 포함된 user 테이블 객체가 아까 정의한 user 테이블 객체임을 확인할 수 있다."
   ]
  },
  {
   "cell_type": "code",
   "execution_count": 6,
   "metadata": {},
   "outputs": [
    {
     "data": {
      "text/plain": [
       "True"
      ]
     },
     "execution_count": 6,
     "metadata": {},
     "output_type": "execute_result"
    }
   ],
   "source": [
    "user is metadata_obj.tables[\"user\"]"
   ]
  },
  {
   "cell_type": "markdown",
   "metadata": {},
   "source": [
    "Table 객체의 `columns` 또는 `c` 속성은 해당 테이블의 Column 객체를 포함하며 다음과 같이 접근할 수 있다."
   ]
  },
  {
   "cell_type": "code",
   "execution_count": 7,
   "metadata": {},
   "outputs": [
    {
     "data": {
      "text/plain": [
       "Column('user_id', Integer(), table=<user>, primary_key=True, nullable=False)"
      ]
     },
     "execution_count": 7,
     "metadata": {},
     "output_type": "execute_result"
    }
   ],
   "source": [
    "user.columns.user_id"
   ]
  },
  {
   "cell_type": "code",
   "execution_count": 8,
   "metadata": {},
   "outputs": [
    {
     "data": {
      "text/plain": [
       "Column('user_id', Integer(), table=<user>, primary_key=True, nullable=False)"
      ]
     },
     "execution_count": 8,
     "metadata": {},
     "output_type": "execute_result"
    }
   ],
   "source": [
    "user.c.user_id"
   ]
  },
  {
   "cell_type": "code",
   "execution_count": 9,
   "metadata": {},
   "outputs": [
    {
     "data": {
      "text/plain": [
       "Column('user_id', Integer(), table=<user>, primary_key=True, nullable=False)"
      ]
     },
     "execution_count": 9,
     "metadata": {},
     "output_type": "execute_result"
    }
   ],
   "source": [
    "user.c[\"user_id\"]"
   ]
  },
  {
   "cell_type": "code",
   "execution_count": 10,
   "metadata": {},
   "outputs": [
    {
     "data": {
      "text/plain": [
       "Column('email_address', String(length=60), table=<user>, key='email')"
      ]
     },
     "execution_count": 10,
     "metadata": {},
     "output_type": "execute_result"
    }
   ],
   "source": [
    "user.c.email"
   ]
  },
  {
   "cell_type": "markdown",
   "metadata": {},
   "source": [
    "다음과 같이 복수의 Column 객체를 동시에 접근할 수도 있다."
   ]
  },
  {
   "cell_type": "code",
   "execution_count": 11,
   "metadata": {},
   "outputs": [
    {
     "data": {
      "text/plain": [
       "<sqlalchemy.sql.base.ReadOnlyColumnCollection at 0x144487650>"
      ]
     },
     "execution_count": 11,
     "metadata": {},
     "output_type": "execute_result"
    }
   ],
   "source": [
    "user.c[\"user_id\", \"nickname\"]"
   ]
  },
  {
   "cell_type": "code",
   "execution_count": 12,
   "metadata": {},
   "outputs": [],
   "source": [
    "from sqlalchemy import create_engine\n",
    "\n",
    "engine = create_engine(\"sqlite:///:memory:\", echo=True)"
   ]
  },
  {
   "cell_type": "code",
   "execution_count": 13,
   "metadata": {},
   "outputs": [
    {
     "data": {
      "text/html": [
       "<span style=\"None\">Loading configurations from /Users/joelkim/.jupysql/config.</span>"
      ],
      "text/plain": [
       "Loading configurations from /Users/joelkim/.jupysql/config."
      ]
     },
     "metadata": {},
     "output_type": "display_data"
    },
    {
     "data": {
      "text/html": [
       "<span style=\"None\">Settings changed:</span>"
      ],
      "text/plain": [
       "Settings changed:"
      ]
     },
     "metadata": {},
     "output_type": "display_data"
    },
    {
     "data": {
      "text/html": [
       "\n",
       "<table>\n",
       "    <thead>\n",
       "        <tr>\n",
       "            <th>Config</th>\n",
       "            <th>value</th>\n",
       "        </tr>\n",
       "    </thead>\n",
       "    <tbody>\n",
       "        <tr>\n",
       "            <td>feedback</td>\n",
       "            <td>0</td>\n",
       "        </tr>\n",
       "        <tr>\n",
       "            <td>displaylimit</td>\n",
       "            <td>20</td>\n",
       "        </tr>\n",
       "        <tr>\n",
       "            <td>named_parameters</td>\n",
       "            <td>enabled</td>\n",
       "        </tr>\n",
       "    </tbody>\n",
       "</table>"
      ],
      "text/plain": [
       "\n",
       "+------------------+---------+\n",
       "|      Config      |  value  |\n",
       "+------------------+---------+\n",
       "|     feedback     |    0    |\n",
       "|   displaylimit   |    20   |\n",
       "| named_parameters | enabled |\n",
       "+------------------+---------+"
      ]
     },
     "metadata": {},
     "output_type": "display_data"
    }
   ],
   "source": [
    "# | output: false\n",
    "%load_ext sql\n",
    "%sql engine"
   ]
  },
  {
   "cell_type": "code",
   "execution_count": 14,
   "metadata": {},
   "outputs": [
    {
     "name": "stdout",
     "output_type": "stream",
     "text": [
      "2024-02-15 16:04:57,970 INFO sqlalchemy.engine.Engine BEGIN (implicit; DBAPI should not BEGIN due to autocommit mode)\n",
      "2024-02-15 16:04:57,971 INFO sqlalchemy.engine.Engine SELECT name FROM sqlite_master WHERE type='table' AND name NOT LIKE 'sqlite~_%' ESCAPE '~' ORDER BY name\n",
      "2024-02-15 16:04:57,972 INFO sqlalchemy.engine.Engine [raw sql] ()\n"
     ]
    },
    {
     "data": {
      "text/html": [
       "<table>\n",
       "    <thead>\n",
       "        <tr>\n",
       "            <th>Name</th>\n",
       "        </tr>\n",
       "    </thead>\n",
       "    <tbody>\n",
       "    </tbody>\n",
       "</table>"
      ],
      "text/plain": [
       "+------+\n",
       "| Name |\n",
       "+------+\n",
       "+------+"
      ]
     },
     "execution_count": 14,
     "metadata": {},
     "output_type": "execute_result"
    }
   ],
   "source": [
    "%sqlcmd tables"
   ]
  },
  {
   "cell_type": "code",
   "execution_count": 15,
   "metadata": {},
   "outputs": [
    {
     "name": "stdout",
     "output_type": "stream",
     "text": [
      "2024-02-15 16:04:58,029 INFO sqlalchemy.engine.Engine BEGIN (implicit)\n",
      "2024-02-15 16:04:58,031 INFO sqlalchemy.engine.Engine PRAGMA main.table_info(\"user\")\n",
      "2024-02-15 16:04:58,032 INFO sqlalchemy.engine.Engine [raw sql] ()\n",
      "2024-02-15 16:04:58,034 INFO sqlalchemy.engine.Engine PRAGMA temp.table_info(\"user\")\n",
      "2024-02-15 16:04:58,035 INFO sqlalchemy.engine.Engine [raw sql] ()\n",
      "2024-02-15 16:04:58,036 INFO sqlalchemy.engine.Engine PRAGMA main.table_info(\"user_prefs\")\n",
      "2024-02-15 16:04:58,036 INFO sqlalchemy.engine.Engine [raw sql] ()\n",
      "2024-02-15 16:04:58,037 INFO sqlalchemy.engine.Engine PRAGMA temp.table_info(\"user_prefs\")\n",
      "2024-02-15 16:04:58,038 INFO sqlalchemy.engine.Engine [raw sql] ()\n",
      "2024-02-15 16:04:58,040 INFO sqlalchemy.engine.Engine \n",
      "CREATE TABLE user (\n",
      "\tuser_id INTEGER NOT NULL, \n",
      "\tuser_name VARCHAR(16) NOT NULL, \n",
      "\temail_address VARCHAR(60), \n",
      "\tnickname VARCHAR(50) NOT NULL, \n",
      "\tPRIMARY KEY (user_id)\n",
      ")\n",
      "\n",
      "\n",
      "2024-02-15 16:04:58,042 INFO sqlalchemy.engine.Engine [no key 0.00134s] ()\n",
      "2024-02-15 16:04:58,044 INFO sqlalchemy.engine.Engine \n",
      "CREATE TABLE user_prefs (\n",
      "\tpref_id INTEGER NOT NULL, \n",
      "\tuser_id INTEGER NOT NULL, \n",
      "\tpref_name VARCHAR(40) NOT NULL, \n",
      "\tpref_value VARCHAR(100), \n",
      "\tPRIMARY KEY (pref_id), \n",
      "\tFOREIGN KEY(user_id) REFERENCES user (user_id)\n",
      ")\n",
      "\n",
      "\n",
      "2024-02-15 16:04:58,045 INFO sqlalchemy.engine.Engine [no key 0.00084s] ()\n",
      "2024-02-15 16:04:58,046 INFO sqlalchemy.engine.Engine COMMIT\n"
     ]
    }
   ],
   "source": [
    "metadata_obj.create_all(engine)"
   ]
  },
  {
   "cell_type": "code",
   "execution_count": 16,
   "metadata": {},
   "outputs": [
    {
     "name": "stdout",
     "output_type": "stream",
     "text": [
      "2024-02-15 16:04:58,057 INFO sqlalchemy.engine.Engine SELECT name FROM sqlite_master WHERE type='table' AND name NOT LIKE 'sqlite~_%' ESCAPE '~' ORDER BY name\n",
      "2024-02-15 16:04:58,060 INFO sqlalchemy.engine.Engine [raw sql] ()\n"
     ]
    },
    {
     "data": {
      "text/html": [
       "<table>\n",
       "    <thead>\n",
       "        <tr>\n",
       "            <th>Name</th>\n",
       "        </tr>\n",
       "    </thead>\n",
       "    <tbody>\n",
       "        <tr>\n",
       "            <td>user</td>\n",
       "        </tr>\n",
       "        <tr>\n",
       "            <td>user_prefs</td>\n",
       "        </tr>\n",
       "    </tbody>\n",
       "</table>"
      ],
      "text/plain": [
       "+------------+\n",
       "|    Name    |\n",
       "+------------+\n",
       "|    user    |\n",
       "| user_prefs |\n",
       "+------------+"
      ]
     },
     "execution_count": 16,
     "metadata": {},
     "output_type": "execute_result"
    }
   ],
   "source": [
    "%sqlcmd tables"
   ]
  },
  {
   "cell_type": "code",
   "execution_count": null,
   "metadata": {},
   "outputs": [],
   "source": []
  }
 ],
 "metadata": {
  "kernelspec": {
   "display_name": "base",
   "language": "python",
   "name": "python3"
  },
  "language_info": {
   "codemirror_mode": {
    "name": "ipython",
    "version": 3
   },
   "file_extension": ".py",
   "mimetype": "text/x-python",
   "name": "python",
   "nbconvert_exporter": "python",
   "pygments_lexer": "ipython3",
   "version": "3.10.12"
  }
 },
 "nbformat": 4,
 "nbformat_minor": 2
}
